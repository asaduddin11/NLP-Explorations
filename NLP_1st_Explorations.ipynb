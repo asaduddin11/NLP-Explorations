{
  "nbformat": 4,
  "nbformat_minor": 0,
  "metadata": {
    "colab": {
      "name": "NLP-1st Explorations.ipynb",
      "version": "0.3.2",
      "provenance": [],
      "include_colab_link": true
    },
    "kernelspec": {
      "name": "python3",
      "display_name": "Python 3"
    }
  },
  "cells": [
    {
      "cell_type": "markdown",
      "metadata": {
        "id": "view-in-github",
        "colab_type": "text"
      },
      "source": [
        "<a href=\"https://colab.research.google.com/github/asaduddin11/NLP-Explorations/blob/master/NLP_1st_Explorations.ipynb\" target=\"_parent\"><img src=\"https://colab.research.google.com/assets/colab-badge.svg\" alt=\"Open In Colab\"/></a>"
      ]
    },
    {
      "metadata": {
        "id": "eZhOluFZ2bE9",
        "colab_type": "code",
        "colab": {}
      },
      "cell_type": "code",
      "source": [
        "#Lets focus on Text Classification first:\n",
        "\n",
        "# Stemming\n",
        "#Lemmatisation \n",
        "\n",
        "#TreebankWordTokenizer()\n",
        "#PorterStemmer() -  when?\n",
        "#WordNetLemmatizer() - When?\n",
        "\n",
        "#Bag Of Words\n",
        "#High frequency n-grams - articles and punctuations \n",
        "#Low frequency n-grams - Typos\n",
        "# We dont  need either of the high or low frequency n-grams. \n",
        "\n",
        "#We need the Medium frequency n-grams. \n",
        "\n",
        "#Term Frequency, term is an n-gram. \n",
        "\n"
      ],
      "execution_count": 0,
      "outputs": []
    },
    {
      "metadata": {
        "id": "EPMXIAXY-9Z3",
        "colab_type": "text"
      },
      "cell_type": "markdown",
      "source": [
        "##Work on building a Profanity Filter \n",
        "##Image filter"
      ]
    }
  ]
}