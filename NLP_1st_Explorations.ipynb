{
  "nbformat": 4,
  "nbformat_minor": 0,
  "metadata": {
    "colab": {
      "name": "NLP-1st Explorations.ipynb",
      "version": "0.3.2",
      "provenance": [],
      "include_colab_link": true
    },
    "kernelspec": {
      "name": "python3",
      "display_name": "Python 3"
    }
  },
  "cells": [
    {
      "cell_type": "markdown",
      "metadata": {
        "id": "view-in-github",
        "colab_type": "text"
      },
      "source": [
        "<a href=\"https://colab.research.google.com/github/asaduddin11/NLP-Explorations/blob/master/NLP_1st_Explorations.ipynb\" target=\"_parent\"><img src=\"https://colab.research.google.com/assets/colab-badge.svg\" alt=\"Open In Colab\"/></a>"
      ]
    },
    {
      "metadata": {
        "id": "AafD0uLGGuCI",
        "colab_type": "text"
      },
      "cell_type": "markdown",
      "source": [
        "#What do we learn in this?\n",
        "\n",
        "##In this notebook, I will write the names and possibly short descriptions of the basic concepts of NLP. \n",
        "\n",
        "##The Focus of this notbook will be text classification. \n",
        "\n",
        "###Two major processes in this are: \n",
        "  1. Stemming\n",
        "  2. Lemmatization\n",
        "  \n",
        " \n",
        "###A wonderful one page document to quickly understand what Stemming and Lemmatization are can be found here: https://nlp.stanford.edu/IR-book/html/htmledition/stemming-and-lemmatization-1.html\n",
        "\n",
        "\n",
        "###One of the classic NLP problems is the Bag Of Words. \n",
        "Bag Of Words focusses on Term Frequency and Weighting. \n",
        "\n",
        "In bag of words, we aim to identify High, Medium and Low frequency words. \n",
        "Terms are called n-grams, where n is the number of words. \n",
        "Eg: 2-gram word is \"good movie\"\n",
        "High frequency n-grams are generally stop words like articles and punctuations. \n",
        "Low frequency n-grams are mostly typing errors.\n",
        "\n",
        "**Medium Frequency** n-grams are the ones which we have our primary focus on and these are used to do our text classification. "
      ]
    }
  ]
}