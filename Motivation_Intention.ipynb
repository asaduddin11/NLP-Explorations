{
  "nbformat": 4,
  "nbformat_minor": 0,
  "metadata": {
    "colab": {
      "name": "Motivation/Intention.ipynb",
      "version": "0.3.2",
      "provenance": [],
      "include_colab_link": true
    },
    "kernelspec": {
      "name": "python3",
      "display_name": "Python 3"
    }
  },
  "cells": [
    {
      "cell_type": "markdown",
      "metadata": {
        "id": "view-in-github",
        "colab_type": "text"
      },
      "source": [
        "<a href=\"https://colab.research.google.com/github/asaduddin11/NLP-Explorations/blob/master/Motivation_Intention.ipynb\" target=\"_parent\"><img src=\"https://colab.research.google.com/assets/colab-badge.svg\" alt=\"Open In Colab\"/></a>"
      ]
    },
    {
      "metadata": {
        "id": "ACSMhbSDPQbd",
        "colab_type": "text"
      },
      "cell_type": "markdown",
      "source": [
        "#In this repository I aim to work on a few NLP problems and their solutions. I do not intent to make this repository a tutorial but rather it is a collection of my understandings of NLP. \n",
        "The primary language used in this repository is python and the IDE used is Google Collaboratory.  "
      ]
    }
  ]
}