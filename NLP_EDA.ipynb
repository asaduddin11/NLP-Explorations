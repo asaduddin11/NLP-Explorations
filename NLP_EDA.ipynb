{
 "cells": [
  {
   "cell_type": "code",
   "execution_count": 9,
   "metadata": {},
   "outputs": [
    {
     "data": {
      "text/plain": [
       "PosixPath('/home/asad/Desktop/PersonalDocuments/Knowledge/NLP_Explorations/imdb-movie-reviews-dataset/ImdbDb')"
      ]
     },
     "execution_count": 9,
     "metadata": {},
     "output_type": "execute_result"
    }
   ],
   "source": [
    "import os\n",
    "import numpy as np\n",
    "from pathlib import Path\n",
    "path = Path('/home/asad/Desktop/PersonalDocuments/Knowledge/NLP_Explorations/imdb-movie-reviews-dataset/')\n",
    "imdb_path = path / 'ImdbDb'\n",
    "imdb_path"
   ]
  },
  {
   "cell_type": "code",
   "execution_count": 11,
   "metadata": {},
   "outputs": [],
   "source": [
    "#Lets write a function to shuffle the data.\n",
    "\n",
    "def shuffle(x,y):\n",
    "  perm = np.random.permutation(len(x))\n",
    "  x = x[perm]\n",
    "  y = y[perm]\n",
    "  return x,y"
   ]
  },
  {
   "cell_type": "code",
   "execution_count": 4,
   "metadata": {},
   "outputs": [
    {
     "data": {
      "text/plain": [
       "'/home/asad/Desktop/PersonalDocuments/Knowledge/NLP_Explorations'"
      ]
     },
     "execution_count": 4,
     "metadata": {},
     "output_type": "execute_result"
    }
   ],
   "source": [
    "os.getcwd()"
   ]
  },
  {
   "cell_type": "code",
   "execution_count": 12,
   "metadata": {},
   "outputs": [
    {
     "name": "stdout",
     "output_type": "stream",
     "text": [
      "/home/asad/Desktop/PersonalDocuments/Knowledge/NLP_Explorations/imdb-movie-reviews-dataset/ImdbDb/train/pos\n",
      "/home/asad/Desktop/PersonalDocuments/Knowledge/NLP_Explorations/imdb-movie-reviews-dataset/ImdbDb/train/neg\n",
      "/home/asad/Desktop/PersonalDocuments/Knowledge/NLP_Explorations/imdb-movie-reviews-dataset/ImdbDb/test/pos\n",
      "/home/asad/Desktop/PersonalDocuments/Knowledge/NLP_Explorations/imdb-movie-reviews-dataset/ImdbDb/test/neg\n"
     ]
    }
   ],
   "source": [
    "#Lets import the dataset:\n",
    "#Before importing the \n",
    "#We have the IMDB Dataset in the filesystem, it contains the data in multiple .txt files. \n",
    "#Lets write a fuction to import the data.\n",
    "\n",
    "\n",
    "def load_data(path):\n",
    "  \n",
    "  # Load the dataset\n",
    "  train_texts = []\n",
    "  train_labels = []\n",
    "  test_texts = []\n",
    "  test_labels = []\n",
    "  for dset in ['train', 'test']:\n",
    "    for cat in ['pos', 'neg']:\n",
    "      dset_path = imdb_path / dset / cat\n",
    "      print(dset_path)\n",
    "      for fname in dset_path.iterdir():\n",
    "        if fname.suffix == '.txt':\n",
    "          with fname.open() as f:\n",
    "            if dset == 'train': train_texts.append(f.readlines())\n",
    "            else: test_texts.append(f.readlines())\n",
    "          label = 0 if cat == 'neg' else 1\n",
    "          if dset == 'train': train_labels.append(label)\n",
    "          else: test_labels.append(label)\n",
    "\n",
    "  # Converting to np.array\n",
    "  train_texts = np.array(train_texts)\n",
    "  train_labels = np.array(train_labels)\n",
    "  test_texts = np.array(test_texts)\n",
    "  test_labels = np.array(test_labels)\n",
    "\n",
    "  # Shuffle the dataset\n",
    "  train_texts, train_labels = shuffle(train_texts, train_labels)\n",
    "  test_texts, test_labels = shuffle(test_texts, test_labels)\n",
    "\n",
    "  # Return the dataset\n",
    "  return train_texts, train_labels, test_texts, test_labels\n",
    "  \n",
    "  \n",
    "trX, trY, ttX, ttY = load_data(path)"
   ]
  },
  {
   "cell_type": "code",
   "execution_count": 14,
   "metadata": {},
   "outputs": [
    {
     "name": "stdout",
     "output_type": "stream",
     "text": [
      "Train samples shape : (25000, 1)\n",
      "Train labels shape  : (25000,)\n",
      "Test samples shape  : (25000, 1)\n",
      "Test labels shape   : (25000,)\n"
     ]
    }
   ],
   "source": [
    "print ('Train samples shape :', trX.shape)\n",
    "print ('Train labels shape  :', trY.shape)\n",
    "print ('Test samples shape  :', ttX.shape)\n",
    "print ('Test labels shape   :', ttY.shape)"
   ]
  },
  {
   "cell_type": "code",
   "execution_count": null,
   "metadata": {},
   "outputs": [],
   "source": []
  }
 ],
 "metadata": {
  "kernelspec": {
   "display_name": "Python 3",
   "language": "python",
   "name": "python3"
  },
  "language_info": {
   "codemirror_mode": {
    "name": "ipython",
    "version": 3
   },
   "file_extension": ".py",
   "mimetype": "text/x-python",
   "name": "python",
   "nbconvert_exporter": "python",
   "pygments_lexer": "ipython3",
   "version": "3.7.0"
  }
 },
 "nbformat": 4,
 "nbformat_minor": 2
}
